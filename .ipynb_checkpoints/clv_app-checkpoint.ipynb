{
 "cells": [
  {
   "cell_type": "code",
   "execution_count": 1,
   "id": "d2ee26bb-1af9-4a58-92ef-23d96d53672b",
   "metadata": {},
   "outputs": [
    {
     "name": "stderr",
     "output_type": "stream",
     "text": [
      "2025-05-05 13:37:26.702 \n",
      "  \u001b[33m\u001b[1mWarning:\u001b[0m to view this Streamlit app on a browser, run it with the following\n",
      "  command:\n",
      "\n",
      "    streamlit run C:\\Users\\HP\\anaconda3\\Lib\\site-packages\\ipykernel_launcher.py [ARGUMENTS]\n"
     ]
    }
   ],
   "source": [
    "# clv_app.py\n",
    "\n",
    "import streamlit as st\n",
    "import pandas as pd # Import pandas(for data manipulation) and streamlit (for app creation)libraries.\n",
    "from lifetimes import BetaGeoFitter, GammaGammaFitter # takes functions from the lifetimes library\n",
    "from lifetimes.utils import summary_data_from_transaction_data #\n",
    "\n",
    "st.title(\"Customer Lifetime Value (CLV) Calculator for MOEVE\")# sets the main title at the top of the Streamlit web app.\n",
    "\n",
    "# Upload CSV file\n",
    "uploaded_file = st.file_uploader(\"Upload a CSV file\", type=[\"csv\"]) # creates a file upload button in your Streamlit app.\n",
    "\n",
    "if uploaded_file is not None: # Checks if the user has uploaded a file\n",
    "    df = pd.read_csv(uploaded_file)\n",
    "\n",
    "    # Check required columns\n",
    "    required_cols = {'CustomerID', 'InvoiceDate', 'Amount'}\n",
    "    if not required_cols.issubset(df.columns):\n",
    "        st.error(f\"CSV must contain these columns: {required_cols}\")\n",
    "    else:\n",
    "        df['InvoiceDate'] = pd.to_datetime(df['InvoiceDate']) # Converts this column into date type of data\n",
    "\n",
    "        # Compute RFM summary\n",
    "        summary = summary_data_from_transaction_data(\n",
    "            df,\n",
    "            customer_id_col='CustomerID',\n",
    "            datetime_col='InvoiceDate',\n",
    "            monetary_value_col='Amount',\n",
    "            observation_period_end=df['InvoiceDate'].max()\n",
    "        )\n",
    "\n",
    "        summary = summary[summary['frequency'] > 0]\n",
    "\n",
    "        # Fit models\n",
    "        bgf = BetaGeoFitter(penalizer_coef=0.001)\n",
    "        bgf.fit(summary['frequency'], summary['recency'], summary['T'])\n",
    "\n",
    "        ggf = GammaGammaFitter(penalizer_coef=0.01)\n",
    "        ggf.fit(summary['frequency'], summary['monetary_value'])\n",
    "\n",
    "        # Predict CLV\n",
    "        summary['expected_avg_value'] = ggf.conditional_expected_average_profit(\n",
    "            summary['frequency'], summary['monetary_value']\n",
    "        )\n",
    "        summary['clv'] = ggf.customer_lifetime_value(\n",
    "            bgf,\n",
    "            summary['frequency'],\n",
    "            summary['recency'],\n",
    "            summary['T'],\n",
    "            summary['monetary_value'],\n",
    "            time=6,\n",
    "            freq='D',\n",
    "            discount_rate=0.01\n",
    "        )\n",
    "\n",
    "        # Add percentile and segment\n",
    "        summary['clv_percentile'] = summary['clv'].rank(pct=True)\n",
    "        summary['clv_quartile'] = pd.qcut(summary['clv_percentile'], q=4, labels=[\n",
    "            'Q1 - Low', 'Q2 - Mid-Low', 'Q3 - Mid-High', 'Q4 - Top'])\n",
    "\n",
    "        st.success(\"CLV computation completed!\")\n",
    "        st.dataframe(summary[['frequency', 'recency', 'T', 'monetary_value', 'clv', 'clv_quartile']])\n",
    "\n",
    "        # Download button\n",
    "        csv = summary.to_csv(index=True).encode('utf-8')\n",
    "        st.download_button(\n",
    "            label=\"Download Results as CSV\",\n",
    "            data=csv,\n",
    "            file_name='clv_results.csv',\n",
    "            mime='text/csv'\n",
    "        )\n"
   ]
  },
  {
   "cell_type": "code",
   "execution_count": null,
   "id": "be1cf83c-f14b-4c08-8117-28ba7fde2ccc",
   "metadata": {},
   "outputs": [],
   "source": []
  }
 ],
 "metadata": {
  "kernelspec": {
   "display_name": "Python [conda env:base] *",
   "language": "python",
   "name": "conda-base-py"
  },
  "language_info": {
   "codemirror_mode": {
    "name": "ipython",
    "version": 3
   },
   "file_extension": ".py",
   "mimetype": "text/x-python",
   "name": "python",
   "nbconvert_exporter": "python",
   "pygments_lexer": "ipython3",
   "version": "3.12.7"
  }
 },
 "nbformat": 4,
 "nbformat_minor": 5
}
